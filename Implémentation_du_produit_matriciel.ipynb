{
  "nbformat": 4,
  "nbformat_minor": 0,
  "metadata": {
    "colab": {
      "name": "Implémentation du produit matriciel.ipynb",
      "provenance": [],
      "collapsed_sections": [],
      "authorship_tag": "ABX9TyPYYeo1YjBhUYEVNqG0c94a",
      "include_colab_link": true
    },
    "kernelspec": {
      "name": "python3",
      "display_name": "Python 3"
    },
    "language_info": {
      "name": "python"
    }
  },
  "cells": [
    {
      "cell_type": "markdown",
      "metadata": {
        "id": "view-in-github",
        "colab_type": "text"
      },
      "source": [
        "<a href=\"https://colab.research.google.com/github/fredagbona/suiteMl_Tasks/blob/main/Impl%C3%A9mentation_du_produit_matriciel.ipynb\" target=\"_parent\"><img src=\"https://colab.research.google.com/assets/colab-badge.svg\" alt=\"Open In Colab\"/></a>"
      ]
    },
    {
      "cell_type": "markdown",
      "source": [
        "[Problème 1] Calculer manuellement le produit matriciel"
      ],
      "metadata": {
        "id": "cNOaAnK-xqCb"
      }
    },
    {
      "cell_type": "code",
      "execution_count": null,
      "metadata": {
        "id": "Hs5lTRvdxAyL"
      },
      "outputs": [],
      "source": [
        "import numpy as np\n",
        "a = np.array([[-1, 2, 3], [4, -5, 6], [7, 8, -9]])\n",
        "b = np.array([[0, 2, 1], [0, 2, -8], [2, 9, -1]])\n",
        "\n",
        "#procédure manuelle pour faire le produit matriciel !\n",
        "\n",
        "#c[0,0] = (a[0] * b[:,0]).sum()\n",
        "#c[0,1] = (a[0] * b[:,1]).sum()\n",
        "#c[0,2] = (a[0] * b[:,2]).sum()\n",
        "#c[1,0] = (a[1] * b[:,0]).sum()\n",
        "#c[1,1] = (a[1] * b[:,1]).sum()\n",
        "#c[1,2] = (a[1] * b[:,2]).sum()\n",
        "#c[2,0] = (a[1] * b[:,0]).sum()\n",
        "#c[2,1] = (a[1] * b[:,1]).sum()\n",
        "#c[2,2] = (a[1] * b[:,2]).sum()\n",
        "\n",
        "c = [[(a[0] * b[:,0]).sum(),(a[0] * b[:,1]).sum(), (a[0] * b[:,2]).sum()],\n",
        "     [(a[1] * b[:,0]).sum(),(a[1] * b[:,1]).sum(), (a[1] * b[:,2]).sum()],\n",
        "     [(a[2] * b[:,0]).sum(),(a[2] * b[:,1]).sum(), (a[2] * b[:,2]).sum()]]   \n",
        "\n",
        "print(np.array(c))"
      ]
    },
    {
      "cell_type": "markdown",
      "source": [
        "[Problème 2] Calcul par la fonction NumPy"
      ],
      "metadata": {
        "id": "yoe4VPlwyREu"
      }
    },
    {
      "cell_type": "code",
      "source": [
        "import numpy as np\n",
        "#import numpy.matlib\n",
        "a = np.array([[-1, 2, 3], [4, -5, 6], [7, 8, -9]])\n",
        "b = np.array([[0, 2, 1], [0, 2, -8], [2, 9, -1]])\n",
        "\n",
        "# with matmul\n",
        "%time print(np.matmul(a,b))"
      ],
      "metadata": {
        "colab": {
          "base_uri": "https://localhost:8080/"
        },
        "id": "YB-nqvG2yT7z",
        "outputId": "be08bf0e-9d2b-418f-97cf-fbfd5a72e8a7"
      },
      "execution_count": 1,
      "outputs": [
        {
          "output_type": "stream",
          "name": "stdout",
          "text": [
            "[[  6  29 -20]\n",
            " [ 12  52  38]\n",
            " [-18 -51 -48]]\n",
            "CPU times: user 2.93 ms, sys: 648 µs, total: 3.58 ms\n",
            "Wall time: 9.72 ms\n"
          ]
        }
      ]
    },
    {
      "cell_type": "code",
      "source": [
        "# with dot()\n",
        "%time print(np.dot(a,b))"
      ],
      "metadata": {
        "colab": {
          "base_uri": "https://localhost:8080/"
        },
        "id": "6Wk4Z-99y2ON",
        "outputId": "bac9728b-dacd-4c4e-f250-7ac6debfc69e"
      },
      "execution_count": 2,
      "outputs": [
        {
          "output_type": "stream",
          "name": "stdout",
          "text": [
            "[[  6  29 -20]\n",
            " [ 12  52  38]\n",
            " [-18 -51 -48]]\n",
            "CPU times: user 1.45 ms, sys: 0 ns, total: 1.45 ms\n",
            "Wall time: 1.47 ms\n"
          ]
        }
      ]
    },
    {
      "cell_type": "code",
      "source": [
        "# with @ operator\n",
        "%time print(a@b)\n",
        "\n",
        "c = a@b\n",
        "print(c.sum())"
      ],
      "metadata": {
        "colab": {
          "base_uri": "https://localhost:8080/"
        },
        "id": "aun_0KRYy5k3",
        "outputId": "9f54fc80-94be-47a2-c629-66b53fa749bb"
      },
      "execution_count": 3,
      "outputs": [
        {
          "output_type": "stream",
          "name": "stdout",
          "text": [
            "[[  6  29 -20]\n",
            " [ 12  52  38]\n",
            " [-18 -51 -48]]\n",
            "CPU times: user 1.99 ms, sys: 0 ns, total: 1.99 ms\n",
            "Wall time: 3.24 ms\n",
            "0\n"
          ]
        }
      ]
    },
    {
      "cell_type": "markdown",
      "source": [
        "[Problème 3] Implémenter le calcul d'un certain élément"
      ],
      "metadata": {
        "id": "aVwqdoAOyxfp"
      }
    },
    {
      "cell_type": "code",
      "source": [
        "\n",
        "import numpy as np\n",
        "a = np.array([[-1, 2, 3], [4, -5, 6], [7, 8, -9]])\n",
        "b = np.array([[0, 2, 1], [0, 2, -8], [2, 9, -1]])\n",
        "elt = 0\n",
        "for k in range(len(a)): \n",
        "    elt += a[0,k] * b[k,0]\n",
        "\n",
        "print(elt)"
      ],
      "metadata": {
        "colab": {
          "base_uri": "https://localhost:8080/"
        },
        "id": "A-OUQirCyyIO",
        "outputId": "2f14d732-22c5-4d11-a09b-05ffb1216e4a"
      },
      "execution_count": 4,
      "outputs": [
        {
          "output_type": "stream",
          "name": "stdout",
          "text": [
            "6\n"
          ]
        }
      ]
    },
    {
      "cell_type": "markdown",
      "source": [
        "[Problème 4] Création d'une fonction qui effectue une multiplication matricielle"
      ],
      "metadata": {
        "id": "8cMDhOZ9zvz7"
      }
    },
    {
      "cell_type": "code",
      "source": [
        "import numpy as np\n",
        "\n",
        "a = np.array([[-1, 2, 3], [4, -5, 6], [7, 8, -9]])\n",
        "\n",
        "b = np.array([[0, 2, 1], [0, 2, -8], [2, 9, -1]])\n",
        "\n",
        "\n",
        "def ndarrayProduct(a_ndarray,b_ndarray):\n",
        "    \n",
        "    \n",
        "    elt = 0    \n",
        "    new_matrix = []\n",
        "\n",
        "    for k in range(a_ndarray.shape[0]):  \n",
        "        \n",
        "        elt_list = [] # list to stock each line mutiliplication\n",
        "        \n",
        "        for i in range(a_ndarray.shape[0]):\n",
        "\n",
        "            elt = 0 #matrix elt\n",
        "\n",
        "            for j in range(a_ndarray.shape[1]):\n",
        "\n",
        "                elt += (a_ndarray[k,j] * b_ndarray[j,i]) \n",
        "            \n",
        "            elt_list.append(elt)\n",
        "            \n",
        "        new_matrix.append(elt_list)\n",
        "\n",
        "\n",
        "    return new_matrix\n",
        "\n",
        "\n",
        "print(ndarrayProduct(a,b))"
      ],
      "metadata": {
        "colab": {
          "base_uri": "https://localhost:8080/"
        },
        "id": "AJPDUrRvzwf-",
        "outputId": "a9c77ac8-03b2-47c2-ac98-94202369fb3e"
      },
      "execution_count": 5,
      "outputs": [
        {
          "output_type": "stream",
          "name": "stdout",
          "text": [
            "[[6, 29, -20], [12, 52, 38], [-18, -51, -48]]\n"
          ]
        }
      ]
    },
    {
      "cell_type": "markdown",
      "source": [
        "[Problème 5] Juger l'entrée pour laquelle le calcul n'est pas défini"
      ],
      "metadata": {
        "id": "Eu14AolE0APd"
      }
    },
    {
      "cell_type": "code",
      "source": [
        "import numpy as np\n",
        "\n",
        "d_ndarray = np.array([[-1, 2, 3], [4, -5, 6]])\n",
        "\n",
        "e_ndarray = np.array([[-9, 8, 7], [6, -5, 4]])\n",
        "\n",
        "\n",
        "def ndarrayProduct(a_ndarray,b_ndarray):\n",
        "    \n",
        "\n",
        "    if a_ndarray.shape[1]!= b_ndarray.shape[0]: \n",
        " \n",
        "\n",
        "        err_msg = \"vos deux matrices doivent avoir la même longueur pour être multipliables\"\n",
        "\n",
        "        return err_msg\n",
        "\n",
        "    elt = 0    \n",
        "    new_matrix = []\n",
        "   \n",
        "\n",
        "    for k in range(a_ndarray.shape[0]):  \n",
        "        \n",
        "        elt_list = [] # list to stock each line mutiliplication\n",
        "        \n",
        "        for i in range(a_ndarray.shape[0]):\n",
        "\n",
        "            elt = 0 #matrix elt\n",
        "\n",
        "            for j in range(a_ndarray.shape[1]):\n",
        "\n",
        "                elt += (a_ndarray[k,j] * b_ndarray[j,i]) \n",
        "            \n",
        "            elt_list.append(elt)\n",
        "            \n",
        "        new_matrix.append(elt_list)\n",
        "\n",
        "\n",
        "    return new_matrix\n",
        "\n",
        "\n",
        "print(ndarrayProduct(d_ndarray,e_ndarray))"
      ],
      "metadata": {
        "id": "v9f7hpwN0A9g"
      },
      "execution_count": null,
      "outputs": []
    },
    {
      "cell_type": "markdown",
      "source": [
        "[Problème 6] Transposition"
      ],
      "metadata": {
        "id": "JRKBTQNi0RT2"
      }
    },
    {
      "cell_type": "code",
      "source": [
        "import numpy as np\n",
        "d_ndarray = np.array([[-1, 2, 3], [4, -5, 6]])\n",
        "e_ndarray = np.array([[-9, 8, 7], [6, -5, 4]])\n",
        "\n",
        "print(\"using np.transpose()\") \n",
        "print(ndarrayProduct(d_ndarray,e_ndarray.T))\n",
        "\n",
        "\n",
        "print(\"\\n\")\n",
        "print(\"verification using .T\") \n",
        "print(d_ndarray@e_ndarray.T)"
      ],
      "metadata": {
        "colab": {
          "base_uri": "https://localhost:8080/"
        },
        "id": "nyeoQYNI0UWg",
        "outputId": "c1661f19-5404-41f9-ac26-e85ff42e2bca"
      },
      "execution_count": 6,
      "outputs": [
        {
          "output_type": "stream",
          "name": "stdout",
          "text": [
            "using np.transpose()\n",
            "[[46, -4], [-34, 73]]\n",
            "\n",
            "\n",
            "verification using .T\n",
            "[[ 46  -4]\n",
            " [-34  73]]\n"
          ]
        }
      ]
    }
  ]
}