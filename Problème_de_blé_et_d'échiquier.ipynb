{
  "nbformat": 4,
  "nbformat_minor": 0,
  "metadata": {
    "colab": {
      "name": "Problème de blé et d'échiquier.ipynb",
      "provenance": [],
      "collapsed_sections": [],
      "authorship_tag": "ABX9TyPfON1Y7ztRvKeCo9MwQPRD",
      "include_colab_link": true
    },
    "kernelspec": {
      "name": "python3",
      "display_name": "Python 3"
    },
    "language_info": {
      "name": "python"
    }
  },
  "cells": [
    {
      "cell_type": "markdown",
      "metadata": {
        "id": "view-in-github",
        "colab_type": "text"
      },
      "source": [
        "<a href=\"https://colab.research.google.com/github/fredagbona/suiteMl_Tasks/blob/main/Probl%C3%A8me_de_bl%C3%A9_et_d'%C3%A9chiquier.ipynb\" target=\"_parent\"><img src=\"https://colab.research.google.com/assets/colab-badge.svg\" alt=\"Open In Colab\"/></a>"
      ]
    },
    {
      "cell_type": "markdown",
      "source": [
        "Problème de blé et d'échiquier"
      ],
      "metadata": {
        "id": "qMRCCkDQmL2_"
      }
    },
    {
      "cell_type": "code",
      "execution_count": 1,
      "metadata": {
        "colab": {
          "base_uri": "https://localhost:8080/"
        },
        "id": "QVncOJY9lnhf",
        "outputId": "d7355905-20dd-4666-f015-c2217a43493a"
      },
      "outputs": [
        {
          "output_type": "stream",
          "name": "stdout",
          "text": [
            "Arrange the wheat on a board of 2*2 squares (list)：[1 2 4 8]\n"
          ]
        }
      ],
      "source": [
        "import numpy as np\n",
        "n_squares = 4\n",
        "small_board_list = [1]\n",
        "for _ in range(n_squares - 1):\n",
        "    small_board_list.append(2*small_board_list[-1])\n",
        "\n",
        "small_board_ndarray = np.array(small_board_list)\n",
        "print(\"Arrange the wheat on a board of 2*2 squares (list)：{}\".format(small_board_ndarray))"
      ]
    },
    {
      "cell_type": "markdown",
      "source": [
        "[Problème 2] Expansion à une masse n × m"
      ],
      "metadata": {
        "id": "zl1EPhDPmW_y"
      }
    },
    {
      "cell_type": "code",
      "source": [
        "def expention_on_chessbord(n,m):\n",
        "    n_squares = n * m\n",
        "    board_list = [1]\n",
        "    for _ in range(n_squares - 1):\n",
        "        board_list.append(2*board_list[-1])\n",
        "\n",
        "    board_ndarray = np.array(board_list)\n",
        "    return board_ndarray\n",
        "    \n",
        "#8x8 squares\n",
        "\n",
        "%time print(\"the number of wheat on the 8x8 square chessboard is {}\".format(expention_on_chessbord(8,8)[-1]))    "
      ],
      "metadata": {
        "colab": {
          "base_uri": "https://localhost:8080/"
        },
        "id": "bRONNRIPmX4l",
        "outputId": "2a02e858-bd4a-4caf-eff5-f150d892100c"
      },
      "execution_count": 2,
      "outputs": [
        {
          "output_type": "stream",
          "name": "stdout",
          "text": [
            "the number of wheat on the 8x8 square chessboard is 9.223372036854776e+18\n",
            "CPU times: user 259 µs, sys: 40 µs, total: 299 µs\n",
            "Wall time: 276 µs\n"
          ]
        }
      ]
    },
    {
      "cell_type": "markdown",
      "source": [
        "[Problème 3] Nombre total de blé"
      ],
      "metadata": {
        "id": "-ztHLPQ8mfpZ"
      }
    },
    {
      "cell_type": "code",
      "source": [
        "import matplotlib.pyplot as plt\n",
        "%matplotlib inline\n",
        "\n",
        "board_ndarray = expention_on_chessbord(8,8)\n",
        "chessboard = board_ndarray.reshape(8,8) \n",
        "\n",
        "column_avarage = chessboard.mean(axis=0)\n",
        "\n",
        "print(column_avarage)\n",
        "\n",
        "plt.ylabel(\"number of wheat\")\n",
        "plt.xlabel(\"number of squares\")\n",
        "plt.title(\"bars diagram\")\n",
        "plt.bar(np.arange(8),column_avarage)\n",
        "plt.show()"
      ],
      "metadata": {
        "colab": {
          "base_uri": "https://localhost:8080/",
          "height": 329
        },
        "id": "J2aCfyuZmgN8",
        "outputId": "6d5679bf-8ebe-471d-95d6-402d7163dd31"
      },
      "execution_count": 3,
      "outputs": [
        {
          "output_type": "stream",
          "name": "stdout",
          "text": [
            "[9.04252160e+15 1.80850432e+16 3.61700864e+16 7.23401728e+16\n",
            " 1.44680346e+17 2.89360691e+17 5.78721383e+17 1.15744277e+18]\n"
          ]
        },
        {
          "output_type": "display_data",
          "data": {
            "image/png": "[encoded data removed]",
            "text/plain": [
              "<Figure size 432x288 with 1 Axes>"
            ]
          },
          "metadata": {
            "needs_background": "light"
          }
        }
      ]
    },
    {
      "cell_type": "markdown",
      "source": [
        "[Problème 4] Heatmap du nombre de blé"
      ],
      "metadata": {
        "id": "85juw3hbmoiF"
      }
    },
    {
      "cell_type": "code",
      "source": [
        "plt.xlabel(\"column\")\n",
        "plt.ylabel(\"row\")\n",
        "plt.title(\"heatmap\")\n",
        "plt.pcolor(chessboard)\n",
        "plt.show()"
      ],
      "metadata": {
        "colab": {
          "base_uri": "https://localhost:8080/",
          "height": 295
        },
        "id": "fLQVmXW8mqJU",
        "outputId": "445ee78b-74c6-4521-fdf6-3e54d0d5dbf4"
      },
      "execution_count": 4,
      "outputs": [
        {
          "output_type": "display_data",
          "data": {
            "image/png": "[encoded data removed]",
            "text/plain": [
              "<Figure size 432x288 with 1 Axes>"
            ]
          },
          "metadata": {
            "needs_background": "light"
          }
        }
      ]
    },
    {
      "cell_type": "markdown",
      "source": [
        "[Problème 5] Combien de fois est la seconde moitié de la première moitié?"
      ],
      "metadata": {
        "id": "6ZgaUxzmm2vY"
      }
    },
    {
      "cell_type": "code",
      "source": [
        "chessboard_ndarray = expention_on_chessbord(8,8).reshape(2,32)\n",
        "\n",
        "each_half_sum = chessboard_ndarray.sum(axis=1) # sum the lign of each half\n",
        "\n",
        "nb_second_half_as_long_as_first_half = each_half_sum[1]//each_half_sum[0]\n",
        "\n",
        "print(\"the second half has longer than first half {} time\".format(nb_second_half_as_long_as_first_half))"
      ],
      "metadata": {
        "colab": {
          "base_uri": "https://localhost:8080/"
        },
        "id": "AEl103vPm3Uy",
        "outputId": "7a2b723c-ac91-44ec-88df-6f419039f272"
      },
      "execution_count": 5,
      "outputs": [
        {
          "output_type": "stream",
          "name": "stdout",
          "text": [
            "the second half has longer than first half 4294967296.0 time\n"
          ]
        }
      ]
    },
    {
      "cell_type": "markdown",
      "source": [
        "[Problème 6] Expansion à la masse n × m par une autre méthode de calcul"
      ],
      "metadata": {
        "id": "8G0kUBqIm_Cv"
      }
    },
    {
      "cell_type": "code",
      "source": [
        "# with np.append()\n",
        "def expention_on_chessbord(n,m):\n",
        "    n_squares = n * m\n",
        "    board_ndarray = np.array([1])\n",
        "    for _ in range(n_squares - 1):\n",
        "        board_ndarray = np.append(board_ndarray, 2*board_ndarray[-1]).astype(np.uint64)\n",
        "        \n",
        "    return board_ndarray\n",
        "\n",
        "%time print(\"Arrange the wheat on a board：{}\".format(expention_on_chessbord(8,8)[-1]))"
      ],
      "metadata": {
        "colab": {
          "base_uri": "https://localhost:8080/"
        },
        "id": "tE7cM4Slm_7H",
        "outputId": "70890fe7-be71-402e-b1c8-36a295af6311"
      },
      "execution_count": 6,
      "outputs": [
        {
          "output_type": "stream",
          "name": "stdout",
          "text": [
            "Arrange the wheat on a board：9223372036854775808\n",
            "CPU times: user 1.92 ms, sys: 2.05 ms, total: 3.97 ms\n",
            "Wall time: 7.41 ms\n"
          ]
        }
      ]
    },
    {
      "cell_type": "code",
      "source": [
        "# with broadcast\n",
        "\n",
        "def expention_on_chessbord(n,m):\n",
        "    n_squares = n * m\n",
        "    indices_of_squares = np.arange(n_squares).astype(np.uint64)\n",
        "    board_ndarray = 2**indices_of_squares\n",
        "    return board_ndarray\n",
        "\n",
        "%time print(\"Arrange the wheat on a board：{}\".format(expention_on_chessbord(8,8)[-1]))"
      ],
      "metadata": {
        "colab": {
          "base_uri": "https://localhost:8080/"
        },
        "id": "VWDy1wlQnL2Z",
        "outputId": "31651913-a920-4c4f-f2e3-76fd8566cca5"
      },
      "execution_count": 7,
      "outputs": [
        {
          "output_type": "stream",
          "name": "stdout",
          "text": [
            "Arrange the wheat on a board：9223372036854775808\n",
            "CPU times: user 1.2 ms, sys: 0 ns, total: 1.2 ms\n",
            "Wall time: 5.87 ms\n"
          ]
        }
      ]
    },
    {
      "cell_type": "markdown",
      "source": [
        "[Problème 7] Comparaison des temps de calcul"
      ],
      "metadata": {
        "id": "t69VFd5ynP1S"
      }
    },
    {
      "cell_type": "code",
      "source": [
        ""
      ],
      "metadata": {
        "id": "KHquTPwhnQc9"
      },
      "execution_count": null,
      "outputs": []
    },
    {
      "cell_type": "code",
      "source": [
        "%%timeit\n",
        "a = np.array([1, 2, 3])\n",
        "b = np.array([1, 2, 3])\n",
        "c = a + b"
      ],
      "metadata": {
        "colab": {
          "base_uri": "https://localhost:8080/"
        },
        "id": "c5Od32C_nqQg",
        "outputId": "c61a0eca-b1f7-4b8f-c64f-18d6fae3b951"
      },
      "execution_count": 11,
      "outputs": [
        {
          "output_type": "stream",
          "name": "stdout",
          "text": [
            "The slowest run took 27.65 times longer than the fastest. This could mean that an intermediate result is being cached.\n",
            "100000 loops, best of 5: 2.26 µs per loop\n"
          ]
        }
      ]
    }
  ]
}