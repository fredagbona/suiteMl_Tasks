{
  "nbformat": 4,
  "nbformat_minor": 0,
  "metadata": {
    "colab": {
      "name": "Problème Fuji Shimoyama.ipynb",
      "provenance": [],
      "collapsed_sections": [],
      "authorship_tag": "ABX9TyNcDut4arIPshXcmuPN6k5h",
      "include_colab_link": true
    },
    "kernelspec": {
      "name": "python3",
      "display_name": "Python 3"
    },
    "language_info": {
      "name": "python"
    }
  },
  "cells": [
    {
      "cell_type": "markdown",
      "metadata": {
        "id": "view-in-github",
        "colab_type": "text"
      },
      "source": [
        "<a href=\"https://colab.research.google.com/github/fredagbona/suiteMl_Tasks/blob/main/Probl%C3%A8me_Fuji_Shimoyama.ipynb\" target=\"_parent\"><img src=\"https://colab.research.google.com/assets/colab-badge.svg\" alt=\"Open In Colab\"/></a>"
      ]
    },
    {
      "cell_type": "markdown",
      "source": [
        "Acquisition de données d'élévation"
      ],
      "metadata": {
        "id": "24jWXdA639qz"
      }
    },
    {
      "cell_type": "code",
      "source": [
        "import numpy as np\n",
        "csv_path = \"mtfuji_data.csv\" # Spécifiez le nom du fichier (télécharger depuis diver)\n",
        "\n",
        "np.set_printoptions(suppress=True) \n",
        "fuji = np.loadtxt(csv_path, delimiter=\",\", skiprows=1)\n",
        "\n",
        "print(fuji[130:140])"
      ],
      "metadata": {
        "id": "TCCDHWah3_iF"
      },
      "execution_count": null,
      "outputs": []
    },
    {
      "cell_type": "markdown",
      "source": [
        "[Problème 1] Visualisation des données"
      ],
      "metadata": {
        "id": "4eLjdLev3WS3"
      }
    },
    {
      "cell_type": "code",
      "source": [
        "import matplotlib.pyplot as plt\n",
        "\n",
        "plt.title(\"Mt. Fuji\")\n",
        "plt.xlabel(\"position\")\n",
        "plt.ylabel(\"elevation[m]\")\n",
        "\n",
        "plt.plot(fuji[:,0],fuji[:,3])"
      ],
      "metadata": {
        "id": "V32s77Qs3Zzl"
      },
      "execution_count": null,
      "outputs": []
    },
    {
      "cell_type": "markdown",
      "source": [
        "[Problème 2] Créez une fonction pour calculer la pente d'un point"
      ],
      "metadata": {
        "id": "PDn60IBj3fTi"
      }
    },
    {
      "cell_type": "code",
      "source": [
        "def gradient_of(current_point):\n",
        "    x = fuji[:,0] #extract numero de point\n",
        "    y = fuji[:,3] # extract elevation\n",
        "    \n",
        "    gradient = (y[current_point] - y[current_point - 1])/(x[current_point] - x[current_point -1])\n",
        "    \n",
        "    return gradient\n",
        "\n",
        "gradient_of(0)"
      ],
      "metadata": {
        "id": "SSX2gHUZ3fv3"
      },
      "execution_count": null,
      "outputs": []
    },
    {
      "cell_type": "markdown",
      "source": [
        "[Problème 3] Créez une fonction pour calculer la destination"
      ],
      "metadata": {
        "id": "YCNmpfpO3jjm"
      }
    },
    {
      "cell_type": "code",
      "source": [
        "\n",
        "def destination(current_point,alpha):\n",
        "    destination_point = current_point - alpha*gradient_of(current_point)\n",
        "    \n",
        "    if destination_point <= 0:\n",
        "        return 0\n",
        "    else:\n",
        "        return round(destination_point)\n",
        "\n",
        "\n",
        "destination(75, alpha=0.2)"
      ],
      "metadata": {
        "id": "l0gnIHhA3nuv"
      },
      "execution_count": null,
      "outputs": []
    },
    {
      "cell_type": "markdown",
      "source": [
        "[Problème 4] Création d'une fonction pour descendre la montagne"
      ],
      "metadata": {
        "id": "-YqJq_3f4vns"
      }
    },
    {
      "cell_type": "code",
      "source": [
        "def go_down_the_mountain(alpha):\n",
        "    \n",
        "    position_list = np.array([136])\n",
        "    next_destination = destination(136,alpha)\n",
        "        \n",
        "    for i in np.arange(fuji.shape[0]):\n",
        "        next_destination = destination(next_destination,alpha)\n",
        "        \n",
        "        if position_list[i] == next_destination:\n",
        "            break\n",
        "        else:\n",
        "            position_list = np.append(position_list,next_destination)\n",
        "        \n",
        "    \n",
        "    return position_list\n",
        "\n",
        "go_down_the_mountain(alpha=0.2)"
      ],
      "metadata": {
        "id": "Z96KE8hz4wO9"
      },
      "execution_count": null,
      "outputs": []
    },
    {
      "cell_type": "markdown",
      "source": [
        "[Problème 5] Visualisation du processus de descente"
      ],
      "metadata": {
        "id": "bHEzxfcE417H"
      }
    },
    {
      "cell_type": "code",
      "source": [
        "import matplotlib.pyplot as plt\n",
        "\n",
        "positions_list = go_down_the_mountain(alpha=0.2)\n",
        "\n",
        "point_array = [fuji[position,3] for position in positions_list] # for each go_down positions\n",
        "\n",
        "\n",
        "plt.title(\"Display points moved in cross section as dots\")\n",
        "plt.xlabel(\"position\")\n",
        "plt.ylabel(\"elevation[m]\")\n",
        "\n",
        "plt.plot(fuji[:,0],fuji[:,3])\n",
        "plt.scatter(positions_list,point_array, c=\"r\")"
      ],
      "metadata": {
        "id": "d1y4bVyr42W_"
      },
      "execution_count": null,
      "outputs": []
    },
    {
      "cell_type": "code",
      "source": [
        "gradient_for_each_position = [gradient_of(positon) for positon in positions_list ]\n",
        "\n",
        "plt.title(\"graph of the altitude and slope \")\n",
        "plt.xlabel(\"gradient\")\n",
        "plt.ylabel(\"elevation[m]\")\n",
        "\n",
        "plt.plot(positions_list,gradient_for_each_position,c=\"b\")"
      ],
      "metadata": {
        "id": "QGHM4sFH5COc"
      },
      "execution_count": null,
      "outputs": []
    },
    {
      "cell_type": "markdown",
      "source": [
        "[Problème 6] Changement de la valeur initiale"
      ],
      "metadata": {
        "id": "41JxlhIP458Z"
      }
    },
    {
      "cell_type": "code",
      "source": [
        "def go_down_the_mountain_from(current_position,alpha):\n",
        "    \n",
        "    figure = plt.figure(figsize=(15,4))\n",
        "    fig1 = figure.add_subplot(1,2,1)\n",
        "    fig2 = figure.add_subplot(1,2,2)\n",
        "    \n",
        "    position_list = np.array([current_position])\n",
        "        \n",
        "    for i in np.arange(fuji.shape[0]):\n",
        "        current_position = destination(current_position,alpha)\n",
        "        \n",
        "        if position_list[i] == current_position:\n",
        "            break\n",
        "        else:\n",
        "            position_list = np.append(position_list,current_position)\n",
        "        \n",
        "    \n",
        "    point_array = [fuji[position,3] for position in position_list] # for each go_down positions\n",
        "    \n",
        "    gradient_for_each_position = [gradient_of(positon) for positon in position_list ]\n",
        "    \n",
        "    fig1.set_title(\"Display points moved in cross section as dots\")\n",
        "\n",
        "    fig1.set_xlabel(\"position\")\n",
        "\n",
        "    fig1.set_ylabel(\"elevation[m]\")\n",
        "\n",
        "    fig1.plot(fuji[:,0],fuji[:,3])\n",
        "\n",
        "    fig1.scatter(position_list,point_array, c=\"r\")\n",
        "    \n",
        "    \n",
        "    fig2.set_title(\"graph of the altitude and slope\")\n",
        "\n",
        "    fig2.set_xlabel(\"gradient\")\n",
        "\n",
        "    fig2.set_ylabel(\"elevation[m]\")\n",
        "\n",
        "    fig2.plot(position_list,gradient_for_each_position, c=\"r\")\n",
        "    \n",
        "\n",
        "    return position_list\n",
        "\n",
        "go_down_the_mountain_from(136,alpha=0.2)"
      ],
      "metadata": {
        "id": "9IgJ-Mnb46bI"
      },
      "execution_count": null,
      "outputs": []
    },
    {
      "cell_type": "markdown",
      "source": [
        "【Problème 7】Visualisation du processus de descente pour chaque valeur initiale"
      ],
      "metadata": {
        "id": "uF6fmD3g5DjU"
      }
    },
    {
      "cell_type": "code",
      "source": [
        "def descent_process_for_each(values,alpha):\n",
        "    \n",
        "    for value in values:\n",
        "        go_down_the_mountain_from(value,alpha)\n",
        "    \n",
        "descent_process_for_each([136,142],alpha=0.2)"
      ],
      "metadata": {
        "id": "fcPPNAut5Fny"
      },
      "execution_count": null,
      "outputs": []
    },
    {
      "cell_type": "markdown",
      "source": [
        "【Problème 8】(Problèmes avancés) Modification des hyperparamètres"
      ],
      "metadata": {
        "id": "qAE_TqCs5JNd"
      }
    },
    {
      "cell_type": "code",
      "source": [
        "def descent_process_for(current_position,alphas):\n",
        "    \n",
        "    for alpha in alphas:\n",
        "        go_down_the_mountain_from(current_position,alpha)\n",
        "    \n",
        "descent_process_for(136,[0.2,0.5,0.7])"
      ],
      "metadata": {
        "id": "9d3aqUVD5L4V"
      },
      "execution_count": null,
      "outputs": []
    }
  ]
}